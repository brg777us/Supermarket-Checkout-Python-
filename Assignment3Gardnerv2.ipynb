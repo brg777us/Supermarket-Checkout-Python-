{
 "cells": [
  {
   "cell_type": "markdown",
   "metadata": {},
   "source": [
    "# Assignment 3 Gardner (v2) - Express and Regular Checkout"
   ]
  },
  {
   "cell_type": "code",
   "execution_count": 1,
   "metadata": {},
   "outputs": [
    {
     "name": "stdout",
     "output_type": "stream",
     "text": [
      "Would you like an 'Express' or 'Regular' checkout? Regular\n",
      "\n",
      "What is your grocery item 1 ?\n",
      "dd\n",
      "What is the price of dd? 5\n",
      "Add another item to your Regular checkout (Y/N)?Y\n",
      "\n",
      "What is your grocery item 2 ?\n",
      "df\n",
      "What is the price of df? tt\n"
     ]
    },
    {
     "ename": "ValueError",
     "evalue": "could not convert string to float: 'tt'",
     "output_type": "error",
     "traceback": [
      "\u001b[1;31m---------------------------------------------------------------------------\u001b[0m",
      "\u001b[1;31mValueError\u001b[0m                                Traceback (most recent call last)",
      "\u001b[1;32m<ipython-input-1-b45dab7bf9c6>\u001b[0m in \u001b[0;36m<module>\u001b[1;34m\u001b[0m\n\u001b[0;32m     29\u001b[0m             \u001b[0mprint\u001b[0m\u001b[1;33m(\u001b[0m\u001b[1;34m\"\\nWhat is your grocery item\"\u001b[0m\u001b[1;33m,\u001b[0m\u001b[0mloopcount\u001b[0m\u001b[1;33m,\u001b[0m\u001b[1;34m\"?\"\u001b[0m\u001b[1;33m)\u001b[0m\u001b[1;33m\u001b[0m\u001b[1;33m\u001b[0m\u001b[0m\n\u001b[0;32m     30\u001b[0m             \u001b[0mitem\u001b[0m\u001b[1;33m=\u001b[0m\u001b[0minput\u001b[0m\u001b[1;33m(\u001b[0m\u001b[1;33m)\u001b[0m\u001b[1;33m\u001b[0m\u001b[1;33m\u001b[0m\u001b[0m\n\u001b[1;32m---> 31\u001b[1;33m             \u001b[0mprice\u001b[0m\u001b[1;33m=\u001b[0m\u001b[0mfloat\u001b[0m\u001b[1;33m(\u001b[0m\u001b[0minput\u001b[0m\u001b[1;33m(\u001b[0m\u001b[1;34m\"What is the price of \"\u001b[0m\u001b[1;33m+\u001b[0m\u001b[0mitem\u001b[0m\u001b[1;33m+\u001b[0m\u001b[1;34m\"? \"\u001b[0m\u001b[1;33m)\u001b[0m\u001b[1;33m)\u001b[0m\u001b[1;33m\u001b[0m\u001b[1;33m\u001b[0m\u001b[0m\n\u001b[0m\u001b[0;32m     32\u001b[0m             \u001b[0mitems\u001b[0m\u001b[1;33m+=\u001b[0m\u001b[0mitem\u001b[0m\u001b[1;33m+\u001b[0m\u001b[1;34m\"-\"\u001b[0m\u001b[1;33m+\u001b[0m\u001b[1;34m\"{:0.2f}\"\u001b[0m\u001b[1;33m.\u001b[0m\u001b[0mformat\u001b[0m\u001b[1;33m(\u001b[0m\u001b[0mprice\u001b[0m\u001b[1;33m)\u001b[0m\u001b[1;33m+\u001b[0m\u001b[1;34m\"\\n\"\u001b[0m\u001b[1;33m\u001b[0m\u001b[1;33m\u001b[0m\u001b[0m\n\u001b[0;32m     33\u001b[0m             \u001b[0mtotalprice\u001b[0m\u001b[1;33m+=\u001b[0m\u001b[0mprice\u001b[0m\u001b[1;33m\u001b[0m\u001b[1;33m\u001b[0m\u001b[0m\n",
      "\u001b[1;31mValueError\u001b[0m: could not convert string to float: 'tt'"
     ]
    }
   ],
   "source": [
    "#INPUT SECTION\n",
    "type = \"test\"\n",
    "while type !=\"Express\" and type != \"Regular\":#validation check Express and Regular\n",
    "    type = input(\"Would you like an 'Express' or 'Regular' checkout? \")\n",
    "    if type == \"Express\":\n",
    "        loopcount = 0\n",
    "        items=\"\"\n",
    "        answer = \"Y\"\n",
    "        totalprice=0\n",
    "        while answer == \"Y\" and loopcount<5:\n",
    "            loopcount+=1\n",
    "            print(\"\\nWhat is your grocery item\",loopcount,\"?\")\n",
    "            item=input()\n",
    "            price=float(input(\"What is the price of \"+item+\"? \"))\n",
    "            items+=item+\"-\"+\"{:0.2f}\".format(price)+\"\\n\"\n",
    "            totalprice+=price\n",
    "            answer = input(\"Add another item to your Express checkout (Y/N)?\")\n",
    "            while answer !=\"Y\" and answer !=\"N\":\n",
    "                answer = input(\"Please only type 'Y' or 'N' for Express checkout \")\n",
    "            if loopcount==5:\n",
    "                print(\"Sorry you can only enter five items in Express checkout\")\n",
    "    elif type == \"Regular\":\n",
    "        loopcount = 0\n",
    "        items=\"\"\n",
    "        answer = \"Y\"\n",
    "        totalprice=0\n",
    "        while answer == \"Y\":\n",
    "            loopcount+=1\n",
    "            print(\"\\nWhat is your grocery item\",loopcount,\"?\")\n",
    "            item=input()\n",
    "            price=float(input(\"What is the price of \"+item+\"? \"))\n",
    "            items+=item+\"-\"+\"{:0.2f}\".format(price)+\"\\n\"\n",
    "            totalprice+=price\n",
    "            answer = input(\"Add another item to your Regular checkout (Y/N)?\")\n",
    "            while answer !=\"Y\" and answer !=\"N\":\n",
    "                answer = input(\"Please only type 'Y' or 'N' for Express checkout \")\n",
    "    else:\n",
    "        print(\"\\nPlease only enter in only 'Express' or 'Regular'. Thank you\")\n",
    "\n",
    "#PAYMENT SECTION\n",
    "\n",
    "payment = input(\"\\n\\nWill you be paying with 'cash' or 'credit'? Please only use these terms: \")\n",
    "if payment == \"cash\":\n",
    "    print(\"\\nPlease pay {:0.2f}\".format(totalprice),\"in cash\")\n",
    "    cashcoll = float(input(\"\\nPlease enter in the cash you are willing to pay \"))\n",
    "    if payment == \"cash\" and cashcoll == totalprice:\n",
    "        print(\"\\nCash, exact amount\")\n",
    "        print(items,\"\\n\")\n",
    "        print(\"Total - {:0.2f}\".format(totalprice))\n",
    "        print(\"Cash paid - {:0.2f}\".format(totalprice))\n",
    "        print(\"Change due - 0.00\\nThank you for your purchase!\")\n",
    "    elif payment == \"cash\" and cashcoll>totalprice:\n",
    "        print(\"\\nCash, amount greater than total\")\n",
    "        print(items,\"\\n\")\n",
    "        print(\"Total - {:0.2f}\".format(totalprice))\n",
    "        print(\"Total - {:0.2f}\".format(totalprice))\n",
    "        print(\"Cash paid - {:0.2f} \".format(cashcoll))\n",
    "        print(\"Change due - {:0.2f}\".format(cashcoll-totalprice))\n",
    "        print(\"Thank you for your purchase!\")\n",
    "    else:\n",
    "        print(\"\\nCash, amount less than total\")\n",
    "        print(items,\"\\n\")\n",
    "        print(\"Total - {:0.2f}\".format(totalprice))\n",
    "        print(\"Cash paid - {:0.2f} \".format(cashcoll))\n",
    "        print(\"Remaining due - {:0.2f} \".format(totalprice-cashcoll))\n",
    "        print(\"Cash Paid - {:0.2f} \".format(totalprice-cashcoll))\n",
    "        print(\"Change due - 0.00\\nThank you for your purchase!\")\n",
    "elif payment == \"credit\":\n",
    "    print(\"\\nCredit Card\\n\")\n",
    "    print(items)\n",
    "    print(\"Total - {:0.2f}\".format(totalprice))\n",
    "    print(\"Credit card charged - {:0.2f} \".format(totalprice))\n",
    "    print(\"Charge due - 0.00\\nThank you for your purchase!\")\n",
    "else:\n",
    "    print(\"\\n\\nPlease only state 'cash' or 'credit', thank you\")"
   ]
  },
  {
   "cell_type": "code",
   "execution_count": null,
   "metadata": {},
   "outputs": [],
   "source": [
    "type = \"test\"\n",
    "if type !=\"Express\" and type != \"Regular\":\n",
    "    print(\"True\")\n",
    "else: print(\"False\")"
   ]
  },
  {
   "cell_type": "code",
   "execution_count": null,
   "metadata": {},
   "outputs": [],
   "source": []
  }
 ],
 "metadata": {
  "kernelspec": {
   "display_name": "Python 3",
   "language": "python",
   "name": "python3"
  },
  "language_info": {
   "codemirror_mode": {
    "name": "ipython",
    "version": 3
   },
   "file_extension": ".py",
   "mimetype": "text/x-python",
   "name": "python",
   "nbconvert_exporter": "python",
   "pygments_lexer": "ipython3",
   "version": "3.7.4"
  }
 },
 "nbformat": 4,
 "nbformat_minor": 2
}
